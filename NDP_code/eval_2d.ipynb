{
 "cells": [
  {
   "cell_type": "code",
   "execution_count": 1,
   "metadata": {},
   "outputs": [
    {
     "name": "stdout",
     "output_type": "stream",
     "text": [
      "gpu\n",
      "True\n"
     ]
    }
   ],
   "source": [
    "import jax\n",
    "print(jax.default_backend())\n",
    "\n",
    "def jax_has_gpu():\n",
    "\n",
    "    try:\n",
    "        _ = jax.device_put(jax.numpy.ones(1), device=jax.devices('gpu')[0])\n",
    "        return True\n",
    "    except:\n",
    "        return False\n",
    "\n",
    "print(jax_has_gpu())\n",
    "\n",
    "import haiku as hk"
   ]
  },
  {
   "cell_type": "code",
   "execution_count": 2,
   "metadata": {},
   "outputs": [
    {
     "name": "stderr",
     "output_type": "stream",
     "text": [
      "2024-09-11 10:08:46.224390: W tensorflow/compiler/tf2tensorrt/utils/py_utils.cc:38] TF-TRT Warning: Could not find TensorRT\n"
     ]
    },
    {
     "name": "stdout",
     "output_type": "stream",
     "text": [
      "checkpoint 1\n",
      "checkpoint 2\n",
      "checkpoint 3\n",
      "checkpoint 4\n",
      "checkpoint 5\n"
     ]
    }
   ],
   "source": [
    "# set-up in config.py\n",
    "# set grid dim in eval_fcts.py\n",
    "\n",
    "from ml_tools import state_utils\n",
    "\n",
    "from eval_fcts import init, sample_prior_grid, sample_conditional_grid, get_grid_data, batch_init\n",
    "\n",
    "import matplotlib.pyplot as plt\n",
    "\n",
    "import jax\n",
    "import jax.numpy as jnp\n",
    "\n",
    "import os\n",
    "\n",
    "\n",
    "\n",
    "SEED = 10\n",
    "\n",
    "key = jax.random.PRNGKey(SEED)\n",
    "\n",
    "direct = \"logs/regression-Sep05-eval/Sep05_103110_swirl_xvwd\"\n",
    "key, skey = jax.random.split(key, 2)\n",
    "\n",
    "\n",
    "\n",
    "\n",
    "state = init(batch_init, skey)\n",
    "\n",
    "\n",
    "index = state_utils.find_latest_checkpoint_step_index(direct)\n",
    "state = state_utils.load_checkpoint(state, direct, step_index=index)"
   ]
  },
  {
   "cell_type": "code",
   "execution_count": 3,
   "metadata": {},
   "outputs": [
    {
     "data": {
      "text/plain": [
       "187138"
      ]
     },
     "execution_count": 3,
     "metadata": {},
     "output_type": "execute_result"
    }
   ],
   "source": [
    "hk.data_structures.tree_size(state.params)"
   ]
  },
  {
   "cell_type": "code",
   "execution_count": null,
   "metadata": {},
   "outputs": [],
   "source": [
    "for i in range(20):\n",
    "    SEED +=1\n",
    "\n",
    "    pkey = jax.random.PRNGKey(SEED)\n",
    "\n",
    "    X, Y = sample_prior_grid(state, pkey)\n",
    "\n",
    "    x1 = jnp.reshape(X[:,0], (20,20))\n",
    "    x2 = jnp.reshape(X[:,1], (20,20))\n",
    "\n",
    "    u = jnp.reshape(Y[:,0], (20,20))\n",
    "    v = jnp.reshape(Y[:,1], (20,20))\n",
    "\n",
    "    M = jnp.hypot(u,v) # create matrix that has lengths of vectors, used for coloring\n",
    "\n",
    "    fig, ax = plt.subplots(figsize=(10,6), dpi = 600)\n",
    "    q = ax.quiver(x1, x2, u, v, M, pivot='tail', width=0.004, scale_units='x', scale=5)\n",
    "\n",
    "    ax.set_aspect('equal')\n",
    "\n",
    "    dir = \"plots\"\n",
    "    name = f\"swirl_prior_{i}\"\n",
    "    pathname = os.path.join(dir, name)\n",
    "    plt.savefig(pathname)\n",
    "\n",
    "    #plt.show()"
   ]
  },
  {
   "cell_type": "code",
   "execution_count": 3,
   "metadata": {},
   "outputs": [],
   "source": [
    "%%capture\n",
    "n = 80\n",
    "data = jnp.load(\"data/swirl_2_training.npz\")\n",
    "\n",
    "for i in range(n):\n",
    "\n",
    "    SEED += 1\n",
    "\n",
    "    ikey = jax.random.PRNGKey(SEED)\n",
    "\n",
    "    idx = i\n",
    "\n",
    "    \n",
    "\n",
    "    x = data[\"x_target\"][idx]\n",
    "    y = data[\"y_target\"][idx]\n",
    "\n",
    "    n_ctxt = (i // 20 + 1) * 4\n",
    "\n",
    "    ind = jax.random.choice(ikey, jnp.arange(399), shape=(n_ctxt,))\n",
    "\n",
    "    xc = x[ind]\n",
    "    yc = y[ind]\n",
    "\n",
    "    SEED += 1\n",
    "    # change seed when you change direction!\n",
    "    ckey = jax.random.PRNGKey(SEED)\n",
    "\n",
    "    X, Y, xc, yc = sample_conditional_grid(state, ckey, xc, yc)\n",
    "\n",
    "    #mse += jnp.sum(jnp.sum((y-Y)**2, axis = 1) / 2, axis = 0) / 400 / n\n",
    "\n",
    "    x1 = jnp.reshape(X[:,0], (20,20))\n",
    "    x2 = jnp.reshape(X[:,1], (20,20))\n",
    "\n",
    "    u = jnp.reshape(Y[:,0], (20,20))\n",
    "    v = jnp.reshape(Y[:,1], (20,20))\n",
    "\n",
    "    M = jnp.hypot(u,v) # create matrix that has lengths of vectors, used for coloring\n",
    "\n",
    "\n",
    "    fig, ax = plt.subplots(figsize=(10,6), dpi = 600)\n",
    "    q = ax.quiver(x1, x2, u, v, M, width=0.004, scale_units='x', scale=5)\n",
    "\n",
    "    for x, y in zip(xc, yc):\n",
    "        ax.quiver(x[0], x[1], y[0], y[1], color='red', width=0.004, scale_units='x', scale=5,)\n",
    "\n",
    "    ax.set_aspect('equal')\n",
    "\n",
    "    dir = \"plots\"\n",
    "    name = f\"swirl_posterior_{i}\"\n",
    "    pathname = os.path.join(dir, name)\n",
    "    plt.savefig(pathname)\n",
    "\n",
    "    #plt.show()\n",
    "\n"
   ]
  }
 ],
 "metadata": {
  "kernelspec": {
   "display_name": "ndp_env",
   "language": "python",
   "name": "python3"
  },
  "language_info": {
   "codemirror_mode": {
    "name": "ipython",
    "version": 3
   },
   "file_extension": ".py",
   "mimetype": "text/x-python",
   "name": "python",
   "nbconvert_exporter": "python",
   "pygments_lexer": "ipython3",
   "version": "3.10.14"
  }
 },
 "nbformat": 4,
 "nbformat_minor": 2
}
