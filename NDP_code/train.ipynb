{
 "cells": [
  {
   "cell_type": "code",
   "execution_count": 1,
   "metadata": {},
   "outputs": [
    {
     "name": "stdout",
     "output_type": "stream",
     "text": [
      "gpu\n",
      "True\n"
     ]
    }
   ],
   "source": [
    "import jax\n",
    "print(jax.default_backend())\n",
    "\n",
    "def jax_has_gpu():\n",
    "\n",
    "    try:\n",
    "        _ = jax.device_put(jax.numpy.ones(1), device=jax.devices('gpu')[0])\n",
    "        return True\n",
    "    except:\n",
    "        return False\n",
    "\n",
    "print(jax_has_gpu())"
   ]
  },
  {
   "cell_type": "code",
   "execution_count": 2,
   "metadata": {},
   "outputs": [
    {
     "name": "stdout",
     "output_type": "stream",
     "text": [
      "2024-08-30 18:47:41.508908: W tensorflow/compiler/tf2tensorrt/utils/py_utils.cc:38] TF-TRT Warning: Could not find TensorRT\n",
      "checkpoint 1\n",
      "checkpoint 2\n",
      "checkpoint 3\n",
      "checkpoint 4\n",
      "checkpoint 5\n",
      "checkpoint 6\n",
      "checkpoint 7\n",
      "checkpoint 8\n",
      "checkpoint 9\n",
      "  0%|                                                | 0/128000 [00:00<?, ?it/s]checkpoint 10\n",
      "  0%|                                                | 0/128000 [00:00<?, ?it/s]\n",
      "jax.errors.SimplifiedTraceback: For simplicity, JAX has removed its internal frames from the traceback of the following exception. Set JAX_TRACEBACK_FILTERING=off to include these.\n",
      "\n",
      "The above exception was the direct cause of the following exception:\n",
      "\n",
      "Traceback (most recent call last):\n",
      "  File \"/data/zizgpu04/not-backed-up/beriegler/projects/NDP/experiments/regression/main.py\", line 352, in <module>\n",
      "    state, metrics = update_step(state, batch)\n",
      "  File \"/data/zizgpu04/not-backed-up/beriegler/projects/NDP/experiments/regression/main.py\", line 212, in update_step\n",
      "    loss_value, grads = loss_and_grad_fn(state.params, batch, loss_key)\n",
      "  File \"/data/zizgpu04/not-backed-up/beriegler/projects/NDP/experiments/regression/main.py\", line 157, in loss_fn\n",
      "    return loss(process, net_with_params, batch, key, **kwargs) # the loss from process script\n",
      "  File \"/data/zizgpu04/not-backed-up/beriegler/projects/NDP/experiments/regression/process.py\", line 214, in loss\n",
      "    losses = jax.vmap(loss_fn)(keys, t, batch.y_target, batch.x_target, mask_target)\n",
      "  File \"/data/zizgpu04/not-backed-up/beriegler/projects/NDP/experiments/regression/process.py\", line 192, in loss_fn\n",
      "    noise_hat = network(t, yt, x, mask, key=key)\n",
      "  File \"/data/zizgpu04/not-backed-up/beriegler/projects/NDP/experiments/regression/main.py\", line 150, in net\n",
      "    return network.apply(params, t[None], yt[None], x[None], mask[None])[0] # [None] adds batch dim because haiku needs that, but this is immeadiately removed with [0]\n",
      "  File \"/data/localhost/not-backed-up/beriegler/miniconda3/envs/ndp_env/lib/python3.10/site-packages/haiku/_src/multi_transform.py\", line 314, in apply_fn\n",
      "    return f.apply(params, None, *args, **kwargs)\n",
      "  File \"/data/localhost/not-backed-up/beriegler/miniconda3/envs/ndp_env/lib/python3.10/site-packages/haiku/_src/transform.py\", line 187, in apply_fn\n",
      "    out, state = f.apply(params, None, *args, **kwargs)\n",
      "  File \"/data/localhost/not-backed-up/beriegler/miniconda3/envs/ndp_env/lib/python3.10/site-packages/haiku/_src/transform.py\", line 457, in apply_fn\n",
      "    out = f(*args, **kwargs)\n",
      "  File \"/data/zizgpu04/not-backed-up/beriegler/projects/NDP/experiments/regression/main.py\", line 142, in network\n",
      "    return model(x, y, t, mask)\n",
      "  File \"/data/localhost/not-backed-up/beriegler/miniconda3/envs/ndp_env/lib/python3.10/site-packages/haiku/_src/module.py\", line 465, in wrapped\n",
      "    out = f(*args, **kwargs)\n",
      "  File \"/data/localhost/not-backed-up/beriegler/miniconda3/envs/ndp_env/lib/python3.10/contextlib.py\", line 79, in inner\n",
      "    return func(*args, **kwds)\n",
      "  File \"/data/localhost/not-backed-up/beriegler/miniconda3/envs/ndp_env/lib/python3.10/site-packages/haiku/_src/module.py\", line 306, in run_interceptors\n",
      "    return bound_method(*args, **kwargs)\n",
      "  File \"/data/localhost/not-backed-up/beriegler/miniconda3/envs/ndp_env/lib/python3.10/site-packages/check_shapes/integration/tf.py\", line 76, in wrapped_method\n",
      "    return wrapped_function(self, *args, **kwargs)\n",
      "  File \"/data/zizgpu04/not-backed-up/beriegler/projects/NDP/experiments/regression/model.py\", line 315, in __call__\n",
      "    hk.Linear(self.hidden_dim)(x),\n",
      "  File \"/data/localhost/not-backed-up/beriegler/miniconda3/envs/ndp_env/lib/python3.10/site-packages/haiku/_src/module.py\", line 465, in wrapped\n",
      "    out = f(*args, **kwargs)\n",
      "  File \"/data/localhost/not-backed-up/beriegler/miniconda3/envs/ndp_env/lib/python3.10/contextlib.py\", line 79, in inner\n",
      "    return func(*args, **kwds)\n",
      "  File \"/data/localhost/not-backed-up/beriegler/miniconda3/envs/ndp_env/lib/python3.10/site-packages/haiku/_src/module.py\", line 306, in run_interceptors\n",
      "    return bound_method(*args, **kwargs)\n",
      "  File \"/data/localhost/not-backed-up/beriegler/miniconda3/envs/ndp_env/lib/python3.10/site-packages/haiku/_src/basic.py\", line 178, in __call__\n",
      "    w = hk.get_parameter(\"w\", [input_size, output_size], dtype, init=w_init)\n",
      "  File \"/data/localhost/not-backed-up/beriegler/miniconda3/envs/ndp_env/lib/python3.10/site-packages/haiku/_src/base.py\", line 602, in wrapped\n",
      "    return wrapped._current(*args, **kwargs)\n",
      "  File \"/data/localhost/not-backed-up/beriegler/miniconda3/envs/ndp_env/lib/python3.10/site-packages/haiku/_src/base.py\", line 707, in get_parameter\n",
      "    raise ValueError(\n",
      "ValueError: 'attention_model/linear/w' with retrieved shape (4, 64) does not match shape=[3, 64] dtype=dtype('float32')\n"
     ]
    }
   ],
   "source": [
    "!python main.py"
   ]
  }
 ],
 "metadata": {
  "kernelspec": {
   "display_name": "ndp_env",
   "language": "python",
   "name": "python3"
  },
  "language_info": {
   "codemirror_mode": {
    "name": "ipython",
    "version": 3
   },
   "file_extension": ".py",
   "mimetype": "text/x-python",
   "name": "python",
   "nbconvert_exporter": "python",
   "pygments_lexer": "ipython3",
   "version": "3.10.14"
  }
 },
 "nbformat": 4,
 "nbformat_minor": 2
}
