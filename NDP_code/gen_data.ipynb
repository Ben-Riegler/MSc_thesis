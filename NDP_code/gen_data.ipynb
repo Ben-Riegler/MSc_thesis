{
 "cells": [
  {
   "cell_type": "code",
   "execution_count": 1,
   "metadata": {},
   "outputs": [
    {
     "name": "stdout",
     "output_type": "stream",
     "text": [
      "gpu\n",
      "True\n"
     ]
    }
   ],
   "source": [
    "import jax\n",
    "print(jax.default_backend())\n",
    "\n",
    "def jax_has_gpu():\n",
    "\n",
    "    try:\n",
    "        _ = jax.device_put(jax.numpy.ones(1), device=jax.devices('gpu')[0])\n",
    "        return True\n",
    "    except:\n",
    "        return False\n",
    "\n",
    "print(jax_has_gpu())"
   ]
  },
  {
   "cell_type": "code",
   "execution_count": 2,
   "metadata": {},
   "outputs": [
    {
     "name": "stderr",
     "output_type": "stream",
     "text": [
      "/data/localhost/not-backed-up/beriegler/miniconda3/envs/ndp_env/lib/python3.10/site-packages/jaxtyping/__init__.py:244: UserWarning: jaxtyping version >=0.2.23 should be used with Equinox version >=0.11.1\n",
      "  warnings.warn(\n",
      "/data/localhost/not-backed-up/beriegler/miniconda3/envs/ndp_env/lib/python3.10/site-packages/tqdm/auto.py:21: TqdmWarning: IProgress not found. Please update jupyter and ipywidgets. See https://ipywidgets.readthedocs.io/en/stable/user_install.html\n",
      "  from .autonotebook import tqdm as notebook_tqdm\n",
      "2024-08-22 20:26:50.130969: W tensorflow/compiler/tf2tensorrt/utils/py_utils.cc:38] TF-TRT Warning: Could not find TensorRT\n"
     ]
    },
    {
     "name": "stdout",
     "output_type": "stream",
     "text": [
      "se training 1\n"
     ]
    },
    {
     "name": "stderr",
     "output_type": "stream",
     "text": [
      "100%|██████████| 4096/4096 [00:02<00:00, 1739.55it/s]\n"
     ]
    },
    {
     "name": "stdout",
     "output_type": "stream",
     "text": [
      "se 1 training\n",
      "(16384, 0, 1) (16384, 0, 1) (16384, 60, 1) (16384, 60, 1) (16384, 60) (16384, 0)\n",
      "se training 2\n"
     ]
    },
    {
     "name": "stderr",
     "output_type": "stream",
     "text": [
      "100%|██████████| 4096/4096 [00:02<00:00, 1688.91it/s]\n"
     ]
    },
    {
     "name": "stdout",
     "output_type": "stream",
     "text": [
      "se 2 training\n",
      "(16384, 0, 2) (16384, 0, 1) (16384, 70, 2) (16384, 70, 1) (16384, 70) (16384, 0)\n",
      "se training 3\n"
     ]
    },
    {
     "name": "stderr",
     "output_type": "stream",
     "text": [
      "100%|██████████| 4096/4096 [00:02<00:00, 1847.63it/s]\n"
     ]
    },
    {
     "name": "stdout",
     "output_type": "stream",
     "text": [
      "se 3 training\n",
      "(16384, 0, 3) (16384, 0, 1) (16384, 80, 3) (16384, 80, 1) (16384, 80) (16384, 0)\n",
      "se interpolation 1\n"
     ]
    },
    {
     "name": "stderr",
     "output_type": "stream",
     "text": [
      "100%|██████████| 32/32 [00:00<00:00, 53.61it/s]\n"
     ]
    },
    {
     "name": "stdout",
     "output_type": "stream",
     "text": [
      "se 1 interpolation\n",
      "(128, 10, 1) (128, 10, 1) (128, 50, 1) (128, 50, 1) (128, 50) (128, 10)\n",
      "se interpolation 2\n"
     ]
    },
    {
     "name": "stderr",
     "output_type": "stream",
     "text": [
      "100%|██████████| 32/32 [00:00<00:00, 41.10it/s]\n"
     ]
    },
    {
     "name": "stdout",
     "output_type": "stream",
     "text": [
      "se 2 interpolation\n",
      "(128, 20, 2) (128, 20, 1) (128, 50, 2) (128, 50, 1) (128, 50) (128, 20)\n",
      "se interpolation 3\n"
     ]
    },
    {
     "name": "stderr",
     "output_type": "stream",
     "text": [
      "100%|██████████| 32/32 [00:00<00:00, 39.94it/s]\n"
     ]
    },
    {
     "name": "stdout",
     "output_type": "stream",
     "text": [
      "se 3 interpolation\n",
      "(128, 30, 3) (128, 30, 1) (128, 50, 3) (128, 50, 1) (128, 50) (128, 30)\n",
      "matern training 1\n"
     ]
    },
    {
     "name": "stderr",
     "output_type": "stream",
     "text": [
      "100%|██████████| 4096/4096 [00:02<00:00, 1721.13it/s]\n"
     ]
    },
    {
     "name": "stdout",
     "output_type": "stream",
     "text": [
      "matern 1 training\n",
      "(16384, 0, 1) (16384, 0, 1) (16384, 60, 1) (16384, 60, 1) (16384, 60) (16384, 0)\n",
      "matern training 2\n"
     ]
    },
    {
     "name": "stderr",
     "output_type": "stream",
     "text": [
      "100%|██████████| 4096/4096 [00:02<00:00, 1658.52it/s]\n"
     ]
    },
    {
     "name": "stdout",
     "output_type": "stream",
     "text": [
      "matern 2 training\n",
      "(16384, 0, 2) (16384, 0, 1) (16384, 70, 2) (16384, 70, 1) (16384, 70) (16384, 0)\n",
      "matern training 3\n"
     ]
    },
    {
     "name": "stderr",
     "output_type": "stream",
     "text": [
      "100%|██████████| 4096/4096 [00:02<00:00, 1862.16it/s]\n"
     ]
    },
    {
     "name": "stdout",
     "output_type": "stream",
     "text": [
      "matern 3 training\n",
      "(16384, 0, 3) (16384, 0, 1) (16384, 80, 3) (16384, 80, 1) (16384, 80) (16384, 0)\n",
      "matern interpolation 1\n"
     ]
    },
    {
     "name": "stderr",
     "output_type": "stream",
     "text": [
      "100%|██████████| 32/32 [00:00<00:00, 53.73it/s]\n"
     ]
    },
    {
     "name": "stdout",
     "output_type": "stream",
     "text": [
      "matern 1 interpolation\n",
      "(128, 10, 1) (128, 10, 1) (128, 50, 1) (128, 50, 1) (128, 50) (128, 10)\n",
      "matern interpolation 2\n"
     ]
    },
    {
     "name": "stderr",
     "output_type": "stream",
     "text": [
      "100%|██████████| 32/32 [00:00<00:00, 54.11it/s]\n"
     ]
    },
    {
     "name": "stdout",
     "output_type": "stream",
     "text": [
      "matern 2 interpolation\n",
      "(128, 20, 2) (128, 20, 1) (128, 50, 2) (128, 50, 1) (128, 50) (128, 20)\n",
      "matern interpolation 3\n"
     ]
    },
    {
     "name": "stderr",
     "output_type": "stream",
     "text": [
      "100%|██████████| 32/32 [00:00<00:00, 53.12it/s]\n"
     ]
    },
    {
     "name": "stdout",
     "output_type": "stream",
     "text": [
      "matern 3 interpolation\n",
      "(128, 30, 3) (128, 30, 1) (128, 50, 3) (128, 50, 1) (128, 50) (128, 30)\n",
      "sawtooth training 1\n"
     ]
    },
    {
     "name": "stderr",
     "output_type": "stream",
     "text": [
      "100%|██████████| 4096/4096 [00:02<00:00, 2013.00it/s]\n"
     ]
    },
    {
     "name": "stdout",
     "output_type": "stream",
     "text": [
      "sawtooth 1 training\n",
      "(16384, 0, 1) (16384, 0, 1) (16384, 60, 1) (16384, 60, 1) (16384, 60) (16384, 0)\n",
      "sawtooth interpolation 1\n"
     ]
    },
    {
     "name": "stderr",
     "output_type": "stream",
     "text": [
      "100%|██████████| 32/32 [00:00<00:00, 55.97it/s]\n"
     ]
    },
    {
     "name": "stdout",
     "output_type": "stream",
     "text": [
      "sawtooth 1 interpolation\n",
      "(128, 10, 1) (128, 10, 1) (128, 50, 1) (128, 50, 1) (128, 50) (128, 10)\n",
      "step training 1\n"
     ]
    },
    {
     "name": "stderr",
     "output_type": "stream",
     "text": [
      "100%|██████████| 4096/4096 [00:01<00:00, 2729.59it/s]\n"
     ]
    },
    {
     "name": "stdout",
     "output_type": "stream",
     "text": [
      "step 1 training\n",
      "(16384, 0, 1) (16384, 0, 1) (16384, 60, 1) (16384, 60, 1) (16384, 60) (16384, 0)\n",
      "step interpolation 1\n"
     ]
    },
    {
     "name": "stderr",
     "output_type": "stream",
     "text": [
      "100%|██████████| 32/32 [00:00<00:00, 100.69it/s]\n"
     ]
    },
    {
     "name": "stdout",
     "output_type": "stream",
     "text": [
      "step 1 interpolation\n",
      "(128, 10, 1) (128, 10, 1) (128, 50, 1) (128, 50, 1) (128, 50) (128, 10)\n",
      "sin training 1\n"
     ]
    },
    {
     "name": "stderr",
     "output_type": "stream",
     "text": [
      "100%|██████████| 4096/4096 [00:02<00:00, 1996.90it/s]\n"
     ]
    },
    {
     "name": "stdout",
     "output_type": "stream",
     "text": [
      "sin 1 training\n",
      "(16384, 0, 1) (16384, 0, 1) (16384, 60, 1) (16384, 60, 1) (16384, 60) (16384, 0)\n",
      "sin interpolation 1\n"
     ]
    },
    {
     "name": "stderr",
     "output_type": "stream",
     "text": [
      "100%|██████████| 32/32 [00:00<00:00, 88.13it/s]\n"
     ]
    },
    {
     "name": "stdout",
     "output_type": "stream",
     "text": [
      "sin 1 interpolation\n",
      "(128, 10, 1) (128, 10, 1) (128, 50, 1) (128, 50, 1) (128, 50) (128, 10)\n",
      "swirl training 2\n"
     ]
    },
    {
     "name": "stderr",
     "output_type": "stream",
     "text": [
      "100%|██████████| 4096/4096 [00:02<00:00, 1854.80it/s]\n"
     ]
    },
    {
     "name": "stdout",
     "output_type": "stream",
     "text": [
      "swirl 2 training\n",
      "(16384, 0, 2) (16384, 0, 2) (16384, 400, 2) (16384, 400, 2) (16384, 400) (16384, 0)\n",
      "swirl interpolation 2\n"
     ]
    },
    {
     "name": "stderr",
     "output_type": "stream",
     "text": [
      "100%|██████████| 32/32 [00:00<00:00, 44.72it/s]\n"
     ]
    },
    {
     "name": "stdout",
     "output_type": "stream",
     "text": [
      "swirl 2 interpolation\n",
      "(128, 10, 2) (128, 10, 2) (128, 390, 2) (128, 390, 2) (128, 390) (128, 10)\n",
      "era5 training 2\n"
     ]
    },
    {
     "name": "stderr",
     "output_type": "stream",
     "text": [
      "100%|██████████| 4096/4096 [00:05<00:00, 702.22it/s] \n"
     ]
    },
    {
     "name": "stdout",
     "output_type": "stream",
     "text": [
      "era5 2 training\n",
      "(16384, 0, 2) (16384, 0, 1) (16384, 1216, 2) (16384, 1216, 1) (16384, 1216) (16384, 0)\n",
      "era5 interpolation 2\n"
     ]
    },
    {
     "name": "stderr",
     "output_type": "stream",
     "text": [
      "100%|██████████| 32/32 [00:04<00:00,  7.41it/s]\n"
     ]
    },
    {
     "name": "stdout",
     "output_type": "stream",
     "text": [
      "era5 2 interpolation\n",
      "(128, 10, 2) (128, 10, 1) (128, 1206, 2) (128, 1206, 1) (128, 1206) (128, 10)\n"
     ]
    },
    {
     "data": {
      "image/png": "[encoded data removed]",
      "text/plain": [
       "<Figure size 800x2000 with 24 Axes>"
      ]
     },
     "metadata": {},
     "output_type": "display_data"
    }
   ],
   "source": [
    "import sys; sys.path.append('.')\n",
    "import os\n",
    "import jax\n",
    "import jax.numpy as jnp\n",
    "import numpy as np\n",
    "jax.config.update(\"jax_enable_x64\", True)\n",
    "\n",
    "from itertools import product\n",
    "from tqdm import tqdm\n",
    "from data import get_batch, DATASETS, TASKS, _DATASET_CONFIGS\n",
    "\n",
    "DRYRUN = False\n",
    "PLOT = False\n",
    "BATCH_SIZE = 4\n",
    "DATASET_SIZE = {\"training\": int(2**14), \"interpolation\": 128}\n",
    "SEED = 0\n",
    "key = jax.random.PRNGKey(SEED)\n",
    "import matplotlib.pyplot as plt\n",
    "\n",
    "fig, axes = plt.subplots(6 + 2, 3, figsize=(8, 20))\n",
    "axes = np.array(axes).flatten()\n",
    "j = 0\n",
    "\n",
    "for dataset, task in product(DATASETS, TASKS):\n",
    "    for input_dim in range(_DATASET_CONFIGS[dataset].min_input_dim, _DATASET_CONFIGS[dataset].max_input_dim + 1):\n",
    "        print(dataset, task, input_dim)\n",
    "\n",
    "        jitted_get_batch = jax.jit(lambda k: get_batch(k, batch_size=BATCH_SIZE, name=dataset, task=task, input_dim=input_dim))\n",
    "\n",
    "        batches = []\n",
    "        for i in tqdm(range(DATASET_SIZE[task] // BATCH_SIZE)):\n",
    "            key, bkey = jax.random.split(key)\n",
    "            batch = jitted_get_batch(bkey)\n",
    "            batches.append(batch)\n",
    "\n",
    "        x_context = jnp.concatenate([b.x_context for b in batches], axis=0)\n",
    "        y_context = jnp.concatenate([b.y_context for b in batches], axis=0)\n",
    "        x_target = jnp.concatenate([b.x_target for b in batches], axis=0)\n",
    "        y_target = jnp.concatenate([b.y_target for b in batches], axis=0)\n",
    "        mask_target = jnp.concatenate([b.mask_target for b in batches], axis=0)\n",
    "        mask_context = jnp.concatenate([b.mask_context for b in batches], axis=0)\n",
    "        print(f\"{dataset} {input_dim} {task}\")\n",
    "        print(x_context.shape, y_context.shape, x_target.shape, y_target.shape, mask_target.shape, mask_context.shape)\n",
    "\n",
    "        if not DRYRUN:\n",
    "            np.savez(\n",
    "                os.getcwd() + f\"/data/{dataset}_{input_dim}_{task}.npz\",\n",
    "                x_context=x_context,\n",
    "                y_context=y_context,\n",
    "                x_target=x_target,\n",
    "                y_target=y_target,\n",
    "                mask_target=mask_target,\n",
    "                mask_context=mask_context,\n",
    "            )\n",
    "\n",
    "        if PLOT:\n",
    "            num_context = mask_context.shape[1] - jnp.count_nonzero(mask_context, axis=1, keepdims=True)\n",
    "            num_context = jnp.ravel(num_context)\n",
    "            num_target = mask_target.shape[1] - jnp.count_nonzero(mask_target, axis=1, keepdims=True)\n",
    "            num_target = jnp.ravel(num_target)\n",
    "            axes[j].hist(num_context, bins=20, label=\"context\")\n",
    "            axes[j].hist(num_target, bins=20, label=\"target\")\n",
    "            axes[j].set_title(f\"{dataset} {input_dim} {task}\", fontsize=8)\n",
    "            if j == 0:\n",
    "                axes[j].legend()\n",
    "            j+=1\n",
    "\n",
    "if PLOT:\n",
    "    plt.savefig(\"num_data.png\")"
   ]
  }
 ],
 "metadata": {
  "kernelspec": {
   "display_name": "ndp_env",
   "language": "python",
   "name": "python3"
  },
  "language_info": {
   "codemirror_mode": {
    "name": "ipython",
    "version": 3
   },
   "file_extension": ".py",
   "mimetype": "text/x-python",
   "name": "python",
   "nbconvert_exporter": "python",
   "pygments_lexer": "ipython3",
   "version": "3.10.14"
  }
 },
 "nbformat": 4,
 "nbformat_minor": 2
}
