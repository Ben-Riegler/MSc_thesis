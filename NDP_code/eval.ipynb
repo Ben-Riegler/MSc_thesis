{
 "cells": [
  {
   "cell_type": "code",
   "execution_count": 3,
   "metadata": {},
   "outputs": [
    {
     "name": "stdout",
     "output_type": "stream",
     "text": [
      "gpu\n",
      "True\n"
     ]
    }
   ],
   "source": [
    "import jax\n",
    "print(jax.default_backend())\n",
    "\n",
    "def jax_has_gpu():\n",
    "\n",
    "    try:\n",
    "        _ = jax.device_put(jax.numpy.ones(1), device=jax.devices('gpu')[0])\n",
    "        return True\n",
    "    except:\n",
    "        return False\n",
    "\n",
    "print(jax_has_gpu())\n",
    "\n",
    "import haiku as hk\n"
   ]
  },
  {
   "cell_type": "code",
   "execution_count": 2,
   "metadata": {},
   "outputs": [
    {
     "name": "stderr",
     "output_type": "stream",
     "text": [
      "2024-09-09 11:05:20.623497: W tensorflow/compiler/tf2tensorrt/utils/py_utils.cc:38] TF-TRT Warning: Could not find TensorRT\n"
     ]
    },
    {
     "name": "stdout",
     "output_type": "stream",
     "text": [
      "checkpoint 1\n",
      "checkpoint 2\n",
      "checkpoint 3\n",
      "checkpoint 4\n",
      "checkpoint 5\n"
     ]
    }
   ],
   "source": [
    "#%%capture\n",
    "from ml_tools import state_utils\n",
    "\n",
    "from eval_fcts import init, plots, batch_init, plot_cond_ci\n",
    "from functools import partial\n",
    "\n",
    "from custom_types import Batch\n",
    "\n",
    "import jax\n",
    "import jax.numpy as jnp\n",
    "\n",
    "SEED = 1\n",
    "\n",
    "\n",
    "\n",
    "key = jax.random.PRNGKey(SEED)\n",
    "\n",
    "direct_sin = \"logs/regression-Aug20-eval/Aug20_133215_mrfe\"\n",
    "direct_se = \"logs/regression-Sep01-eval/Sep01_135024_icrc\"\n",
    "direct_matern = \"logs/regression-Sep05-eval/Sep05_132217_matern_vaxe\"\n",
    "direct_step = \"logs/regression-Sep06-eval/Sep06_152530_step_fxvt\"\n",
    "\n",
    "key, sinkey, sekey, mkey, okey = jax.random.split(key, 5)\n",
    "\n",
    "state_sin = init(batch_init, sinkey)\n",
    "state_se = init(batch_init, sekey)\n",
    "state_matern = init(batch_init, mkey)\n",
    "state_step = init(batch_init, okey)\n",
    "\n",
    "\n",
    "index_sin = state_utils.find_latest_checkpoint_step_index(direct_sin)\n",
    "state_sin = state_utils.load_checkpoint(state_sin, direct_sin, step_index=index_sin)\n",
    "\n",
    "index_se = state_utils.find_latest_checkpoint_step_index(direct_se)\n",
    "state_se = state_utils.load_checkpoint(state_se, direct_se, step_index=index_se)\n",
    "\n",
    "index_matern = state_utils.find_latest_checkpoint_step_index(direct_matern)\n",
    "state_matern = state_utils.load_checkpoint(state_matern, direct_matern, step_index=index_matern)\n",
    "\n",
    "index_step = state_utils.find_latest_checkpoint_step_index(direct_step)\n",
    "state_step = state_utils.load_checkpoint(state_step, direct_step, step_index=index_step)"
   ]
  },
  {
   "cell_type": "code",
   "execution_count": 5,
   "metadata": {},
   "outputs": [
    {
     "data": {
      "text/plain": [
       "352833"
      ]
     },
     "execution_count": 5,
     "metadata": {},
     "output_type": "execute_result"
    }
   ],
   "source": [
    "hk.data_structures.tree_size(state_se.params)"
   ]
  },
  {
   "cell_type": "code",
   "execution_count": null,
   "metadata": {},
   "outputs": [],
   "source": [
    "for i in range(20):\n",
    "    key, pkey = jax.random.split(key, 2)\n",
    "\n",
    "    n_funct = 4\n",
    "    n_ctxt = 1+i\n",
    "    idx = i\n",
    "\n",
    "    ran = (-2,2)\n",
    "    # l = ran[0]\n",
    "    # u = ran[1]\n",
    "\n",
    "    data = jnp.load(\"data/sin_1_training.npz\")\n",
    "\n",
    "    ctxt_i = jax.random.choice(pkey, 60, (n_ctxt,), replace=False )\n",
    "    xc = data[\"x_target\"][idx][ctxt_i,:]\n",
    "    yc = data[\"y_target\"][idx][ctxt_i,:]\n",
    "\n",
    "\n",
    "    plots(state_sin, pkey, n_funct, xc, yc, ran, save = i, name = \"sin\")"
   ]
  },
  {
   "cell_type": "code",
   "execution_count": null,
   "metadata": {},
   "outputs": [],
   "source": [
    "for i in range(15):\n",
    "\n",
    "    key, pkey = jax.random.split(key, 2)\n",
    "    n_ctxt = 3+i\n",
    "    idx = i\n",
    "\n",
    "    ran = (-2,2)\n",
    "\n",
    "    data = jnp.load(\"data/sin_1_training.npz\")\n",
    "\n",
    "    ctxt_i = jax.random.choice(pkey, 60, (n_ctxt,), replace=False )\n",
    "    xc = data[\"x_target\"][idx][ctxt_i,:]\n",
    "    yc = data[\"y_target\"][idx][ctxt_i,:]\n",
    "\n",
    "    plot_cond_ci(state_sin, pkey, 5, xc, yc, ran, save = i, name = \"sin\")"
   ]
  },
  {
   "cell_type": "code",
   "execution_count": null,
   "metadata": {},
   "outputs": [],
   "source": [
    "for i in range(20):\n",
    "    key, pkey = jax.random.split(key, 2)\n",
    "\n",
    "    n_funct = 4\n",
    "    n_ctxt = 1+i\n",
    "    idx = i\n",
    "\n",
    "    ran = (-2,2)\n",
    "    # l = ran[0]\n",
    "    # u = ran[1]\n",
    "\n",
    "    data = jnp.load(\"data/se_1_training.npz\")\n",
    "\n",
    "    ctxt_i = jax.random.choice(pkey, 60, (n_ctxt,), replace=False )\n",
    "    xc = data[\"x_target\"][idx][ctxt_i,:]\n",
    "    yc = data[\"y_target\"][idx][ctxt_i,:]\n",
    "\n",
    "    plots(state_se, pkey, n_funct, xc, yc, ran, save = i, name = \"se\")"
   ]
  },
  {
   "cell_type": "code",
   "execution_count": null,
   "metadata": {},
   "outputs": [],
   "source": [
    "for i in range(15):\n",
    "\n",
    "    key, pkey = jax.random.split(key, 2)\n",
    "    n_ctxt = 3+i\n",
    "    idx = i\n",
    "\n",
    "    ran = (-2,2)\n",
    "\n",
    "    data = jnp.load(\"data/se_1_training.npz\")\n",
    "\n",
    "    ctxt_i = jax.random.choice(pkey, 60, (n_ctxt,), replace=False )\n",
    "    xc = data[\"x_target\"][idx][ctxt_i,:]\n",
    "    yc = data[\"y_target\"][idx][ctxt_i,:]\n",
    "\n",
    "    plot_cond_ci(state_se, pkey, 20, xc, yc, ran, save = i, name = \"se\")"
   ]
  },
  {
   "cell_type": "code",
   "execution_count": null,
   "metadata": {},
   "outputs": [],
   "source": [
    "for i in range(20):\n",
    "    key, pkey = jax.random.split(key, 2)\n",
    "\n",
    "    n_funct = 4\n",
    "    n_ctxt = 1+i\n",
    "    idx = i\n",
    "\n",
    "    ran = (-2,2)\n",
    "    # l = ran[0]\n",
    "    # u = ran[1]\n",
    "\n",
    "    data = jnp.load(\"data/matern_1_training.npz\")\n",
    "\n",
    "    ctxt_i = jax.random.choice(pkey, 60, (n_ctxt,), replace=False )\n",
    "    xc = data[\"x_target\"][idx][ctxt_i,:]\n",
    "    yc = data[\"y_target\"][idx][ctxt_i,:]\n",
    "\n",
    "    plots(state_matern, pkey, n_funct, xc, yc, ran, save = i, name = \"matern\")"
   ]
  },
  {
   "cell_type": "code",
   "execution_count": null,
   "metadata": {},
   "outputs": [
    {
     "ename": "",
     "evalue": "",
     "output_type": "error",
     "traceback": [
      "\u001b[1;31mThe Kernel crashed while executing code in the current cell or a previous cell. \n",
      "\u001b[1;31mPlease review the code in the cell(s) to identify a possible cause of the failure. \n",
      "\u001b[1;31mClick <a href='https://aka.ms/vscodeJupyterKernelCrash'>here</a> for more info. \n",
      "\u001b[1;31mView Jupyter <a href='command:jupyter.viewOutput'>log</a> for further details."
     ]
    }
   ],
   "source": [
    "for i in range(15):\n",
    "\n",
    "    key, pkey = jax.random.split(key, 2)\n",
    "    n_ctxt = 3+i\n",
    "    idx = i\n",
    "\n",
    "    ran = (-2,2)\n",
    "\n",
    "    data = jnp.load(\"data/matern_1_training.npz\")\n",
    "\n",
    "    ctxt_i = jax.random.choice(pkey, 60, (n_ctxt,), replace=False )\n",
    "    xc = data[\"x_target\"][idx][ctxt_i,:]\n",
    "    yc = data[\"y_target\"][idx][ctxt_i,:]\n",
    "\n",
    "    plot_cond_ci(state_matern, pkey, 20, xc, yc, ran, save = i, name = \"matern\")"
   ]
  },
  {
   "cell_type": "code",
   "execution_count": null,
   "metadata": {},
   "outputs": [],
   "source": [
    "for i in range(20):\n",
    "    key, pkey = jax.random.split(key, 2)\n",
    "\n",
    "    n_funct = 4\n",
    "    n_ctxt = 1+i\n",
    "    idx = i\n",
    "\n",
    "    ran = (-2,2)\n",
    "    # l = ran[0]\n",
    "    # u = ran[1]\n",
    "\n",
    "    data = jnp.load(\"data/step_1_training.npz\")\n",
    "\n",
    "    ctxt_i = jax.random.choice(pkey, 60, (n_ctxt,), replace=False )\n",
    "    xc = data[\"x_target\"][idx][ctxt_i,:]\n",
    "    yc = data[\"y_target\"][idx][ctxt_i,:]\n",
    "\n",
    "    plots(state_step, pkey, n_funct, xc, yc, ran, save = i, name = \"step\")"
   ]
  },
  {
   "cell_type": "code",
   "execution_count": null,
   "metadata": {},
   "outputs": [],
   "source": [
    "for i in range(15):\n",
    "\n",
    "    key, pkey = jax.random.split(key, 2)\n",
    "    n_ctxt = 3+i\n",
    "    idx = i\n",
    "\n",
    "    ran = (-2,2)\n",
    "\n",
    "    data = jnp.load(\"data/step_1_training.npz\")\n",
    "\n",
    "    ctxt_i = jax.random.choice(pkey, 60, (n_ctxt,), replace=False )\n",
    "    xc = data[\"x_target\"][idx][ctxt_i,:]\n",
    "    yc = data[\"y_target\"][idx][ctxt_i,:]\n",
    "\n",
    "    plot_cond_ci(state_step, pkey, 20, xc, yc, ran, save = i, name = \"step\")"
   ]
  }
 ],
 "metadata": {
  "kernelspec": {
   "display_name": "ndp_env",
   "language": "python",
   "name": "python3"
  },
  "language_info": {
   "codemirror_mode": {
    "name": "ipython",
    "version": 3
   },
   "file_extension": ".py",
   "mimetype": "text/x-python",
   "name": "python",
   "nbconvert_exporter": "python",
   "pygments_lexer": "ipython3",
   "version": "3.10.14"
  }
 },
 "nbformat": 4,
 "nbformat_minor": 2
}
